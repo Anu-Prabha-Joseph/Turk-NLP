{
 "cells": [
  {
   "cell_type": "markdown",
   "metadata": {},
   "source": [
    "# Summarization Example\n",
    "\n",
    "Bu notebook, `turknlp` ile metin özetlemenin örneğini içerir."
   ]
  }
 ],
 "metadata": {},
 "nbformat": 4,
 "nbformat_minor": 5
}