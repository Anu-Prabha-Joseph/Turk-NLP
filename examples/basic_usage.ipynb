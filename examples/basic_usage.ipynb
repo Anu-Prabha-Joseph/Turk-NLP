{
 "cells": [
  {
   "cell_type": "markdown",
   "metadata": {},
   "source": [
    "# Basic Usage Example\n",
    "\n",
    "Bu notebook, `turknlp` kütüphanesinin temel kullanımını gösterir."
   ]
  }
 ],
 "metadata": {},
 "nbformat": 4,
 "nbformat_minor": 5
}