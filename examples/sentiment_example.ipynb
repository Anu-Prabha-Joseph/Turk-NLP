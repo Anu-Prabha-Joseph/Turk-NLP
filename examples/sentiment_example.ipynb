{
 "cells": [
  {
   "cell_type": "markdown",
   "metadata": {},
   "source": [
    "# Sentiment Analysis Example\n",
    "\n",
    "Bu notebook, `turknlp` kütüphanesi ile duygu analizi nasıl yapılır gösterir."
   ]
  }
 ],
 "metadata": {},
 "nbformat": 4,
 "nbformat_minor": 5
}